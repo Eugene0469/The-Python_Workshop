{
 "cells": [
  {
   "cell_type": "code",
   "execution_count": 1,
   "id": "c5c0e793",
   "metadata": {},
   "outputs": [
    {
     "data": {
      "text/plain": [
       "12"
      ]
     },
     "execution_count": 1,
     "metadata": {},
     "output_type": "execute_result"
    }
   ],
   "source": [
    "5+7"
   ]
  },
  {
   "cell_type": "code",
   "execution_count": 2,
   "id": "a06b1705",
   "metadata": {},
   "outputs": [
    {
     "data": {
      "text/plain": [
       "2"
      ]
     },
     "execution_count": 2,
     "metadata": {},
     "output_type": "execute_result"
    }
   ],
   "source": [
    "5//2"
   ]
  },
  {
   "cell_type": "code",
   "execution_count": 3,
   "id": "2421528c",
   "metadata": {},
   "outputs": [
    {
     "data": {
      "text/plain": [
       "2.5"
      ]
     },
     "execution_count": 3,
     "metadata": {},
     "output_type": "execute_result"
    }
   ],
   "source": [
    "5/2"
   ]
  },
  {
   "cell_type": "code",
   "execution_count": 4,
   "id": "4eaf7c3c",
   "metadata": {},
   "outputs": [
    {
     "data": {
      "text/plain": [
       "-5.0"
      ]
     },
     "execution_count": 4,
     "metadata": {},
     "output_type": "execute_result"
    }
   ],
   "source": [
    "# Basic Math Operations(Order followed: PEMDAS[(),**,*,/,+,-])\n",
    "(100 - 5 ** 3) / 5 #Expected Output: (100-125)/5 = -25/5 = -5"
   ]
  },
  {
   "cell_type": "code",
   "execution_count": 12,
   "id": "241f6899",
   "metadata": {},
   "outputs": [
    {
     "name": "stdout",
     "output_type": "stream",
     "text": [
      "<class 'float'>\n",
      "<class 'int'>\n",
      "Float:  10.7\n",
      "Int:  10\n"
     ]
    }
   ],
   "source": [
    "x = 5.7\n",
    "# type() method is used to obtain explicitly Python data types\n",
    "print(type(x))\n",
    "y = int (x)\n",
    "print(type(y))\n",
    "print(\"Float: \", x + y)\n",
    "print(\"Int: \", int(x + y))"
   ]
  },
  {
   "cell_type": "code",
   "execution_count": 13,
   "id": "b27dc69e",
   "metadata": {},
   "outputs": [
    {
     "data": {
      "text/plain": [
       "(-0.5+0.5j)"
      ]
     },
     "execution_count": 13,
     "metadata": {},
     "output_type": "execute_result"
    }
   ],
   "source": [
    "# Python uses j instead of i for complex numbers\n",
    "(2 + 3j) / (1 - 5j)"
   ]
  },
  {
   "cell_type": "code",
   "execution_count": 17,
   "id": "015f47d9",
   "metadata": {},
   "outputs": [
    {
     "name": "stdout",
     "output_type": "stream",
     "text": [
      "x is <class 'int'> with value: 3\n",
      "x is <class 'float'> with value: 3.0\n"
     ]
    }
   ],
   "source": [
    "# Declare a variable to store an integer\n",
    "x = 3\n",
    "print(\"x is\", type(x),\"with value:\", x)\n",
    "# Assign a float value to the variable x\n",
    "x = 3.0\n",
    "print(\"x is\", type(x), \"with value:\", x)"
   ]
  },
  {
   "cell_type": "code",
   "execution_count": null,
   "id": "5066303d",
   "metadata": {},
   "outputs": [],
   "source": []
  }
 ],
 "metadata": {
  "kernelspec": {
   "display_name": "Python 3",
   "language": "python",
   "name": "python3"
  },
  "language_info": {
   "codemirror_mode": {
    "name": "ipython",
    "version": 3
   },
   "file_extension": ".py",
   "mimetype": "text/x-python",
   "name": "python",
   "nbconvert_exporter": "python",
   "pygments_lexer": "ipython3",
   "version": "3.8.8"
  }
 },
 "nbformat": 4,
 "nbformat_minor": 5
}
