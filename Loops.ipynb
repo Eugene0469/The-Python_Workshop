{
 "cells": [
  {
   "cell_type": "code",
   "execution_count": 8,
   "id": "bcfd61a5",
   "metadata": {},
   "outputs": [
    {
     "name": "stdout",
     "output_type": "stream",
     "text": [
      "1\n",
      "2\n",
      "3\n",
      "4\n",
      "5\n",
      "102 is divisible by 17, which is equal to 6.\n"
     ]
    }
   ],
   "source": [
    "'''\n",
    "Loops\n",
    "while (condition):\n",
    "    # Code to execute\n",
    "break: when encountered, the program breaks out of \n",
    "       the loop\n",
    "'''\n",
    "# Initialize a variable\n",
    "i = 1\n",
    "# Print out the first 5 numbers\n",
    "while (i <= 5):\n",
    "    print(i)\n",
    "    i += 1\n",
    "# Print the first number greater than 100 that is divisible by 17\n",
    "x = 100\n",
    "while (x >= 100):\n",
    "    x += 1\n",
    "    if ((x % 17) == 0):\n",
    "        print(\"{} is divisible by 17, which is equal to {}.\".format(x,(x // 17)))\n",
    "        break"
   ]
  },
  {
   "cell_type": "code",
   "execution_count": null,
   "id": "24f37318",
   "metadata": {},
   "outputs": [],
   "source": []
  }
 ],
 "metadata": {
  "kernelspec": {
   "display_name": "Python 3",
   "language": "python",
   "name": "python3"
  },
  "language_info": {
   "codemirror_mode": {
    "name": "ipython",
    "version": 3
   },
   "file_extension": ".py",
   "mimetype": "text/x-python",
   "name": "python",
   "nbconvert_exporter": "python",
   "pygments_lexer": "ipython3",
   "version": "3.8.8"
  }
 },
 "nbformat": 4,
 "nbformat_minor": 5
}
