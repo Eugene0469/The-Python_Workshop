{
 "cells": [
  {
   "cell_type": "code",
   "execution_count": 4,
   "id": "432db9b9",
   "metadata": {},
   "outputs": [
    {
     "name": "stdout",
     "output_type": "stream",
     "text": [
      "Please enter your name: Shawn\n",
      "Please enter your age: 4\n",
      "So sorry Shawn, you have to wait for 14 years to vote\n"
     ]
    }
   ],
   "source": [
    "'''\n",
    "Conditionals\n",
    "Syntax:\n",
    "if(conditions):\n",
    "    # Code to execute\n",
    "else:\n",
    "    # Code to execute\n",
    "'''\n",
    "name = input(\"Please enter your name: \")\n",
    "age = int(input(\"Please enter your age: \"))\n",
    "if (age >= 18):\n",
    "    print(\"Good news {}, you can vote\".format(name))\n",
    "else:\n",
    "    difference = 18 - age\n",
    "    print(\"So sorry {}, you have to wait for {} years to vote\".format(name,difference))"
   ]
  },
  {
   "cell_type": "code",
   "execution_count": null,
   "id": "ed4d300d",
   "metadata": {},
   "outputs": [],
   "source": []
  }
 ],
 "metadata": {
  "kernelspec": {
   "display_name": "Python 3",
   "language": "python",
   "name": "python3"
  },
  "language_info": {
   "codemirror_mode": {
    "name": "ipython",
    "version": 3
   },
   "file_extension": ".py",
   "mimetype": "text/x-python",
   "name": "python",
   "nbconvert_exporter": "python",
   "pygments_lexer": "ipython3",
   "version": "3.8.8"
  }
 },
 "nbformat": 4,
 "nbformat_minor": 5
}
