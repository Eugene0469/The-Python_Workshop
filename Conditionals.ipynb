{
 "cells": [
  {
   "cell_type": "code",
   "execution_count": 12,
   "id": "3e40144f",
   "metadata": {},
   "outputs": [
    {
     "name": "stdout",
     "output_type": "stream",
     "text": [
      "Please enter your name: Eugene\n",
      "Please enter your age: 26\n",
      "Good news Eugene, you can vote\n"
     ]
    }
   ],
   "source": [
    "'''\n",
    "Conditionals\n",
    "Syntax:\n",
    "if(conditions):\n",
    "    # Code to execute\n",
    "else:\n",
    "    # Code to execute\n",
    "'''\n",
    "name = input(\"Please enter your name: \")\n",
    "age = int(input(\"Please enter your age: \"))\n",
    "if (age >= 18):\n",
    "    print(\"Good news {}, you can vote\".format(name))\n",
    "else:\n",
    "    print(\"So sorry {}, you have to wait for {} years to vote\".format(name,(18 - age)))"
   ]
  },
  {
   "cell_type": "code",
   "execution_count": 11,
   "id": "13cedec1",
   "metadata": {},
   "outputs": [
    {
     "name": "stdout",
     "output_type": "stream",
     "text": [
      "Please enter your age: 76\n",
      "Each day is magical.\n"
     ]
    }
   ],
   "source": [
    "'''\n",
    "The elif Statement\n",
    "'''\n",
    "age = int(input(\"Please enter your age: \"))\n",
    "if (age <= 10):\n",
    "    print(\"Listen, learn, and have fun.\")\n",
    "elif (age <= 19):\n",
    "    print(\"Go fearlessly forward.\")\n",
    "elif (age <= 29):\n",
    "    print(\"Seize the day.\")\n",
    "elif (age <= 39):\n",
    "    print(\"Go for what you want.\")\n",
    "elif (age <= 59):\n",
    "    print(\"Stay physically fit and healthy.\")\n",
    "else:\n",
    "    print(\"Each day is magical.\")"
   ]
  },
  {
   "cell_type": "code",
   "execution_count": null,
   "id": "e7012919",
   "metadata": {},
   "outputs": [],
   "source": []
  }
 ],
 "metadata": {
  "kernelspec": {
   "display_name": "Python 3",
   "language": "python",
   "name": "python3"
  },
  "language_info": {
   "codemirror_mode": {
    "name": "ipython",
    "version": 3
   },
   "file_extension": ".py",
   "mimetype": "text/x-python",
   "name": "python",
   "nbconvert_exporter": "python",
   "pygments_lexer": "ipython3",
   "version": "3.8.8"
  }
 },
 "nbformat": 4,
 "nbformat_minor": 5
}
