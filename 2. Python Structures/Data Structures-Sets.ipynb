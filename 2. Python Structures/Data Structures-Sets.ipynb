{
 "cells": [
  {
   "cell_type": "code",
   "execution_count": 5,
   "id": "332ee9d8",
   "metadata": {},
   "outputs": [
    {
     "name": "stdout",
     "output_type": "stream",
     "text": [
      "******************** Sets ********************\n",
      "Sets do not allow for duplicates:\n",
      "s1 = set([1,2,3,4,5,6]) = {1, 2, 3, 4, 5, 6}\n",
      "s2 = set([1,2,2,3,4,4,5,6,6]) = {1, 2, 3, 4, 5, 6}\n",
      "s3 = set([3,4,5,6,6,6,1,1,2]) = {1, 2, 3, 4, 5, 6}\n",
      "---------------------------------------- \n",
      "Initializing a set with {}\n",
      "s4 = {'apple', 'orange', 'banana'} = {'apple', 'orange', 'banana'}\n",
      "---------------------------------------- \n",
      "Adding a new item to a set\n",
      "s4.add('pineapple') = {'apple', 'pineapple', 'orange', 'banana'}\n"
     ]
    }
   ],
   "source": [
    "'''\n",
    "Sets\n",
    "They are an unordered collection of unique and immutable objects \n",
    "that support operations mimicking mathematical set theory.\n",
    "Syntax:\n",
    "    setVarName = {element1, element2. element3}\n",
    "A set cannot have duplicate items/members/elements\n",
    "'''\n",
    "print('*'*20, 'Sets', '*'*20)\n",
    "# initialize a set\n",
    "s1 = set([1,2,3,4,5,6])\n",
    "s2 = set([1,2,2,3,4,4,5,6,6])\n",
    "s3 = set([3,4,5,6,6,6,1,1,2])\n",
    "print(\"Sets do not allow for duplicates:\")\n",
    "print('s1 = set([1,2,3,4,5,6]) =',s1)\n",
    "print('s2 = set([1,2,2,3,4,4,5,6,6]) =',s2)\n",
    "print('s3 = set([3,4,5,6,6,6,1,1,2]) =', s3)\n",
    "print('-'*40,'\\n'+'Initializing a set with {}')\n",
    "s4 = {'apple', 'orange', 'banana'}\n",
    "print('s4 = {\\'apple\\', \\'orange\\', \\'banana\\'} =',s4)\n",
    "print('-'*40,'\\n'+'Adding a new item to a set')\n",
    "s4.add('pineapple')\n",
    "print('s4.add(\\'pineapple\\') =',s4)"
   ]
  },
  {
   "cell_type": "code",
   "execution_count": 12,
   "id": "9a7305bc",
   "metadata": {},
   "outputs": [
    {
     "name": "stdout",
     "output_type": "stream",
     "text": [
      "******************** Set Operations ********************\n",
      "A union returns a single set of unique elements from each of the two sets:\n",
      "s5 | s6, where(s5={1,2,3,4} & s6={3,4,5,6}) : {1, 2, 3, 4, 5, 6}\n",
      "s5.union(s6), where(s5={1,2,3,4} & s6={3,4,5,6}) : {1, 2, 3, 4, 5, 6}\n",
      "---------------------------------------- \n",
      "An intersect returns a single set of unique elements that belong to both sets:\n",
      "s5 & s6, where(s5={1,2,3,4} & s6={3,4,5,6}) : {3, 4}\n",
      "s5.intersection(s6), where(s5={1,2,3,4} & s6={3,4,5,6}) : {3, 4}\n",
      "---------------------------------------- \n",
      "Difference returns a the unique elements that belong to only one of the two sets being compared:\n",
      "s5 - s6, where(s5={1,2,3,4} & s6={3,4,5,6}) : {1, 2}\n",
      "s5.difference(s6), where(s5={1,2,3,4} & s6={3,4,5,6}) : {1, 2}\n",
      "---------------------------------------- \n",
      "issubset checks if one set is a subset of another:\n",
      "s5 <= s6, where(s5={1,2,3,4} & s6={3,4,5,6}) : False\n",
      "s5.issubset(s6), where(s5={1,2,3,4} & s6={3,4,5,6}) : False\n",
      "True\n",
      "True\n",
      "True\n",
      "False\n",
      "False\n"
     ]
    }
   ],
   "source": [
    "'''\n",
    "Set Operations\n",
    "A union operation returns a single set that contains all the \n",
    "unique elements in both set A and B\n",
    "An intersect operation returns a single set that contains \n",
    "unique elements that belong to set A and also belongs to \n",
    "set B at the same time\n",
    "\n",
    "Do take note that <= operator is a test for the subset. \n",
    "A proper subset is the same as a general subset, except that \n",
    "the sets cannot be identical.\n",
    "'''\n",
    "print('*'*20,'Set Operations','*'*20)\n",
    "s5 = {1,2,3,4}\n",
    "s6 = {3,4,5,6}\n",
    "print('A union returns a single set of unique elements from each of the two sets:')\n",
    "print('s5 | s6, where(s5={1,2,3,4} & s6={3,4,5,6}) :', s5 | s6)\n",
    "print('s5.union(s6), where(s5={1,2,3,4} & s6={3,4,5,6}) :', s5.union(s6))\n",
    "print('-'*40, '\\n'+'An intersect returns a single set of unique elements that belong to both sets:')\n",
    "print('s5 & s6, where(s5={1,2,3,4} & s6={3,4,5,6}) :', s5 & s6)\n",
    "print('s5.intersection(s6), where(s5={1,2,3,4} & s6={3,4,5,6}) :', s5.intersection(s6))\n",
    "print('-'*40, '\\n'+'Difference returns a the unique elements that belong to only one of the two sets being compared:')\n",
    "print('s5 - s6, where(s5={1,2,3,4} & s6={3,4,5,6}) :', s5 - s6)\n",
    "print('s5.difference(s6), where(s5={1,2,3,4} & s6={3,4,5,6}) :', s5.difference(s6))\n",
    "print('-'*40, '\\n'+'issubset checks if one set is a subset of another:')\n",
    "print('s5 <= s6, where(s5={1,2,3,4} & s6={3,4,5,6}) :', s5 <= s6)\n",
    "print('s5.issubset(s6), where(s5={1,2,3,4} & s6={3,4,5,6}) :', s5.issubset(s6))\n",
    "s7 = {1,2,3}\n",
    "s8 = {1,2,3,4,5}\n",
    "print('s7 <= s8, where(s7={1,2,3} & s8={1,2,3,4,5}) :', s7 <= s8)\n",
    "print('s7.issubset(s8), where(s5={1,2,3,4} & s6={3,4,5,6}) :', s5.issubset(s6))\n",
    "print(s7.issubset(s8))\n",
    "print(s7 < s8)\n",
    "s9 = {1,2,3}\n",
    "s10 = {1,2,3}\n",
    "print(s9 < s10)\n",
    "print(s9 < s9)\n",
    "print('-'*40, '\\n'+'issuperset checks if one set is a superset of another:')\n",
    "print('s5 >= s6, where(s5={1,2,3,4} & s6={3,4,5,6}) :', s5 >= s6)\n",
    "print('s5.issuperset(s6), where(s5={1,2,3,4} & s6={3,4,5,6}) :', s5.issuperset(s6))\n",
    "print(s8 >= s7)\n",
    "print(s8.issuperset(s7))\n",
    "print(s8 > s7)\n",
    "print(s8 > s8)"
   ]
  },
  {
   "cell_type": "code",
   "execution_count": null,
   "id": "4e95a495",
   "metadata": {},
   "outputs": [],
   "source": []
  }
 ],
 "metadata": {
  "kernelspec": {
   "display_name": "Python 3",
   "language": "python",
   "name": "python3"
  },
  "language_info": {
   "codemirror_mode": {
    "name": "ipython",
    "version": 3
   },
   "file_extension": ".py",
   "mimetype": "text/x-python",
   "name": "python",
   "nbconvert_exporter": "python",
   "pygments_lexer": "ipython3",
   "version": "3.8.8"
  }
 },
 "nbformat": 4,
 "nbformat_minor": 5
}
