{
 "cells": [
  {
   "cell_type": "code",
   "execution_count": 13,
   "id": "7a50c1ea",
   "metadata": {},
   "outputs": [
    {
     "name": "stdout",
     "output_type": "stream",
     "text": [
      "[['John Mckee', 38, 'Sales'], ['Lisa Crawford', 29, 'Marketing'], ['Sujan Patel', 33, 'HR']]\n",
      "Name: John Mckee\n",
      "Age: 38\n",
      "Department: Sales \n",
      "-----------------------------\n",
      "Name: Lisa Crawford\n",
      "Age: 29\n",
      "Department: Marketing \n",
      "-----------------------------\n",
      "Name: Sujan Patel\n",
      "Age: 33\n",
      "Department: HR \n",
      "-----------------------------\n",
      "Name: Lisa Crawford\n",
      "Age: 29\n",
      "Department: Marketing\n"
     ]
    }
   ],
   "source": [
    "'''\n",
    "Activity 6: Using a Nested List to Store Employee Data(My Approach)\n",
    "'''\n",
    "employees = [[\"John Mckee\",38,\"Sales\"],[\"Lisa Crawford\", 29, \"Marketing\"],[\"Sujan Patel\", 33, \"HR\"]]\n",
    "print(employees)\n",
    "for row in employees:\n",
    "    i = 0\n",
    "    for col in row:\n",
    "        if i == 0:\n",
    "            print(\"Name:\", col)\n",
    "            i+=1\n",
    "        elif i == 1:\n",
    "            print(\"Age:\", col)\n",
    "            i+=1\n",
    "        else:\n",
    "            print(\"Department:\", col, \"\\n-----------------------------\")\n",
    "print(\"Name:\", employees[1][0])\n",
    "print(\"Age:\", employees[1][1])\n",
    "print(\"Department:\", employees[1][2])"
   ]
  },
  {
   "cell_type": "code",
   "execution_count": 15,
   "id": "641b1b07",
   "metadata": {},
   "outputs": [
    {
     "name": "stdout",
     "output_type": "stream",
     "text": [
      "Name: John Mckee\n",
      "Age: 38\n",
      "Department Sales\n",
      "--------------------\n",
      "Name: Lisa Crawford\n",
      "Age: 29\n",
      "Department Marketing\n",
      "--------------------\n",
      "Name: Sujan Patel\n",
      "Age: 33\n",
      "Department HR\n",
      "--------------------\n",
      "['Lisa Crawford', 29, 'Marketing']\n",
      "Name: Lisa Crawford\n",
      "Age: 29\n",
      "Department Marketing\n",
      "--------------------\n"
     ]
    }
   ],
   "source": [
    "'''\n",
    "Activity 6: Using a Nested List to Store Employee Data\n",
    "'''\n",
    "employees = [[\"John Mckee\",38,\"Sales\"],[\"Lisa Crawford\", 29, \"Marketing\"],[\"Sujan Patel\", 33, \"HR\"]]\n",
    "for employee in employees:\n",
    "    print(\"Name:\", employee[0])\n",
    "    print(\"Age:\", employee[1])\n",
    "    print(\"Department\", employee[2])\n",
    "    print(\"-\" * 20)\n",
    "# Print only Lisa Crawford's info\n",
    "employee = employees[1]\n",
    "print(employee)\n",
    "print(\"Name:\", employee[0])\n",
    "print(\"Age:\", employee[1])\n",
    "print(\"Department\", employee[2])\n",
    "print(\"-\" * 20)"
   ]
  },
  {
   "cell_type": "code",
   "execution_count": 8,
   "id": "942f8c33",
   "metadata": {},
   "outputs": [
    {
     "name": "stdout",
     "output_type": "stream",
     "text": [
      "***** Raw Data ***** \n",
      "\n",
      "[{'Name': 'John Mckee', 'Age': 38, 'Department': 'Sales'}, {'Name': 'Lisa Crawford', 'Age': 29, 'Department': 'Marketing'}, {'Name': 'Sujan Patel', 'Age': 33, 'Department': 'HR'}]\n",
      "----------------------------------------\n",
      "***** Full Employee List ***** \n",
      "\n",
      "Name: John Mckee\n",
      "Age: 38\n",
      "Department: Sales\n",
      "----------------------------------------\n",
      "Name: Lisa Crawford\n",
      "Age: 29\n",
      "Department: Marketing\n",
      "----------------------------------------\n",
      "Name: Sujan Patel\n",
      "Age: 33\n",
      "Department: HR\n",
      "----------------------------------------\n",
      "***** Sujan Patel's Details ***** \n",
      "\n",
      "Name: Sujan Patel\n",
      "Age: 33\n",
      "Department: HR\n",
      "----------------------------------------\n"
     ]
    }
   ],
   "source": [
    "'''\n",
    "Activity 7: Storing Company Employee Table Data \n",
    "Using a List and a Dictionary(My Approach)\n",
    "'''\n",
    "# initialize a list\n",
    "employees = [\n",
    "             {\n",
    "                 \"Name\" : \"John Mckee\",\n",
    "                  \"Age\": 38,\n",
    "                  \"Department\": \"Sales\"\n",
    "             },\n",
    "             {\n",
    "                 \"Name\" : \"Lisa Crawford\",\n",
    "                  \"Age\" : 29,\n",
    "                  \"Department\" : \"Marketing\"\n",
    "             },\n",
    "             {\n",
    "                 \"Name\" : \"Sujan Patel\",\n",
    "                 \"Age\" : 33,\n",
    "                 \"Department\" : \"HR\"\n",
    "             }\n",
    "            ]\n",
    "print(\"*\"*5,\"Raw Data\", \"*\"*5,\"\\n\")\n",
    "print(employees)\n",
    "print(\"-\"*40)\n",
    "print(\"*\"*5,\"Full Employee List\", \"*\"*5,\"\\n\")\n",
    "for employee in employees:\n",
    "    for key in employee:\n",
    "        print(key + \":\", employee[key])\n",
    "    print(\"-\"*40)\n",
    "print(\"*\"*5,\"Sujan Patel's Details\", \"*\"*5,\"\\n\")\n",
    "for key in employees[2]:\n",
    "    print(key + \":\", employees[2][key])\n",
    "print(\"-\"*40)"
   ]
  },
  {
   "cell_type": "code",
   "execution_count": 10,
   "id": "421135c6",
   "metadata": {},
   "outputs": [
    {
     "name": "stdout",
     "output_type": "stream",
     "text": [
      "[{'Name': 'John Mckee', 'Age': 38, 'Department': 'Sales'}, {'Name': 'Lisa Crawford', 'Age': 29, 'Department': 'Marketing'}, {'Name': 'Sujan Patel', 'Age': 33, 'Department': 'HR'}]\n",
      "Name: John Mckee\n",
      "Age: 38\n",
      "Department: Sales\n",
      "--------------------\n",
      "Name: Lisa Crawford\n",
      "Age: 29\n",
      "Department: Marketing\n",
      "--------------------\n",
      "Name: Sujan Patel\n",
      "Age: 33\n",
      "Department: HR\n",
      "--------------------\n",
      "Name: Sujan Patel\n",
      "Age: 33\n",
      "Department: HR\n",
      "--------------------\n"
     ]
    }
   ],
   "source": [
    "'''\n",
    "Activity 7: Storing Company Employee Table Data \n",
    "Using a List and a Dictionary\n",
    "'''\n",
    "# initialize a list\n",
    "employees = [\n",
    "             {\n",
    "                 \"Name\" : \"John Mckee\",\n",
    "                  \"Age\": 38,\n",
    "                  \"Department\": \"Sales\"\n",
    "             },\n",
    "             {\n",
    "                 \"Name\" : \"Lisa Crawford\",\n",
    "                  \"Age\" : 29,\n",
    "                  \"Department\" : \"Marketing\"\n",
    "             },\n",
    "             {\n",
    "                 \"Name\" : \"Sujan Patel\",\n",
    "                 \"Age\" : 33,\n",
    "                 \"Department\" : \"HR\"\n",
    "             }\n",
    "            ]\n",
    "print(employees)\n",
    "for employee in employees:\n",
    "    print(\"Name:\", employee['Name'])\n",
    "    print(\"Age:\", employee['Age'])\n",
    "    print(\"Department:\", employee['Department'])\n",
    "    print('-' * 20)\n",
    "for employee in employees:\n",
    "    if employee['Name'] == 'Sujan Patel':\n",
    "        print(\"Name:\", employee['Name'])\n",
    "        print(\"Age:\", employee['Age'])\n",
    "        print(\"Department:\", employee['Department'])\n",
    "        print('-' * 20)"
   ]
  },
  {
   "cell_type": "code",
   "execution_count": null,
   "id": "eef619a2",
   "metadata": {},
   "outputs": [],
   "source": []
  }
 ],
 "metadata": {
  "kernelspec": {
   "display_name": "Python 3",
   "language": "python",
   "name": "python3"
  },
  "language_info": {
   "codemirror_mode": {
    "name": "ipython",
    "version": 3
   },
   "file_extension": ".py",
   "mimetype": "text/x-python",
   "name": "python",
   "nbconvert_exporter": "python",
   "pygments_lexer": "ipython3",
   "version": "3.8.8"
  }
 },
 "nbformat": 4,
 "nbformat_minor": 5
}
