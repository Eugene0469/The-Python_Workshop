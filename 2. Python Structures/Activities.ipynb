{
 "cells": [
  {
   "cell_type": "code",
   "execution_count": 11,
   "id": "27fc61e3",
   "metadata": {},
   "outputs": [
    {
     "name": "stdout",
     "output_type": "stream",
     "text": [
      "[['John Mckee', 38, 'Sales'], ['Lisa Crawford', 29, 'Marketing'], ['Sujan Patel', 33, 'HR']]\n",
      "Name: John Mckee\n",
      "Age: 38\n",
      "Department: Sales \n",
      "-----------------------------\n",
      "Name: Lisa Crawford\n",
      "Age: 29\n",
      "Department: Marketing \n",
      "-----------------------------\n",
      "Name: Sujan Patel\n",
      "Age: 33\n",
      "Department: HR \n",
      "-----------------------------\n"
     ]
    }
   ],
   "source": [
    "'''\n",
    "Activity 6: Using a Nested List to Store Employee Data\n",
    "'''\n",
    "employees = [[\"John Mckee\",38,\"Sales\"],[\"Lisa Crawford\", 29, \"Marketing\"],[\"Sujan Patel\", 33, \"HR\"]]\n",
    "print(employees)\n",
    "for row in employees:\n",
    "    i = 0\n",
    "    for col in row:\n",
    "        if i == 0:\n",
    "            print(\"Name:\", col)\n",
    "            i+=1\n",
    "        elif i == 1:\n",
    "            print(\"Age:\", col)\n",
    "            i+=1\n",
    "        else:\n",
    "            print(\"Department:\", col, \"\\n-----------------------------\")\n",
    "print(\"Name:\", )"
   ]
  },
  {
   "cell_type": "code",
   "execution_count": null,
   "id": "5590b33c",
   "metadata": {},
   "outputs": [],
   "source": []
  }
 ],
 "metadata": {
  "kernelspec": {
   "display_name": "Python 3",
   "language": "python",
   "name": "python3"
  },
  "language_info": {
   "codemirror_mode": {
    "name": "ipython",
    "version": 3
   },
   "file_extension": ".py",
   "mimetype": "text/x-python",
   "name": "python",
   "nbconvert_exporter": "python",
   "pygments_lexer": "ipython3",
   "version": "3.8.8"
  }
 },
 "nbformat": 4,
 "nbformat_minor": 5
}
