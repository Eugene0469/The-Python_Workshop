{
 "cells": [
  {
   "cell_type": "code",
   "execution_count": 17,
   "id": "7fc9efe6",
   "metadata": {},
   "outputs": [
    {
     "name": "stdout",
     "output_type": "stream",
     "text": [
      "******************** Tuples ********************\n",
      "varTuple = ('bread', 'milk', 'eggs')\n",
      "Length of varTuple, i.e., len(varTupe) = 3\n",
      "---------------------------------------- \n",
      "***** Appending items to a tuple through concatenation *****\n",
      "varTuple + ('apple','orange') = ('bread', 'milk', 'eggs', 'apple', 'orange')\n",
      "varTuple(remain unchanged) = ('bread', 'milk', 'eggs')\n",
      "---------------------------------------- \n",
      "***** Using a tuple with mixed types *****\n",
      "t_mixed = ('apple', True, 3)\n",
      "---------------------------------------- \n",
      "***** Nested tuples *****\n",
      "t_shopping = (('apple', 3), ('orange', 2), ('banana', 5))\n",
      "\n",
      "NB: You can declare a tuple without using parentheses\n"
     ]
    }
   ],
   "source": [
    "'''\n",
    "Tuples\n",
    "\n",
    "They are similar to lists but cannot be changed.\n",
    "Syntax: \n",
    "    tuple_var = (value1, value2, value3,...,valueN)\n",
    "They support mixed types and nesting. One can also \n",
    "declare a tuple without using parentheses\n",
    "'''\n",
    "# initialize a tuple\n",
    "varTuple = ('bread', 'milk', 'eggs')\n",
    "print('*'*20, 'Tuples', '*'*20)\n",
    "print('varTuple =', varTuple)\n",
    "print('Length of varTuple, i.e., len(varTupe) =',len(varTuple))\n",
    "print('-'*40,'\\n'+'*'*5, 'Appending items to a tuple through concatenation','*'*5)\n",
    "print('varTuple + (\\'apple\\',\\'orange\\') =',varTuple + ('apple','orange'))\n",
    "print('varTuple(remain unchanged) =', varTuple)\n",
    "print('-'*40,'\\n'+'*'*5, 'Using a tuple with mixed types','*'*5)\n",
    "t_mixed = 'apple', True, 3\n",
    "print('t_mixed =', t_mixed)\n",
    "print('-'*40,'\\n'+'*'*5, 'Nested tuples','*'*5)\n",
    "t_shopping = ('apple', 3), ('orange', 2), ('banana', 5)\n",
    "print('t_shopping =', t_shopping)\n",
    "print('\\nNB: You can declare a tuple without using parentheses')"
   ]
  },
  {
   "cell_type": "code",
   "execution_count": null,
   "id": "8c60b2e5",
   "metadata": {},
   "outputs": [],
   "source": []
  }
 ],
 "metadata": {
  "kernelspec": {
   "display_name": "Python 3",
   "language": "python",
   "name": "python3"
  },
  "language_info": {
   "codemirror_mode": {
    "name": "ipython",
    "version": 3
   },
   "file_extension": ".py",
   "mimetype": "text/x-python",
   "name": "python",
   "nbconvert_exporter": "python",
   "pygments_lexer": "ipython3",
   "version": "3.8.8"
  }
 },
 "nbformat": 4,
 "nbformat_minor": 5
}
