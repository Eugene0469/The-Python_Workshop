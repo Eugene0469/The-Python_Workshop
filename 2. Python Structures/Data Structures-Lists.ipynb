{
 "cells": [
  {
   "cell_type": "code",
   "execution_count": 6,
   "id": "433dc245",
   "metadata": {},
   "outputs": [
    {
     "name": "stdout",
     "output_type": "stream",
     "text": [
      "List: ['bread', 'milk', 'coffee', 'sugar']\n",
      "Item 1: bread\n",
      "Item 2: milk\n",
      "Item 3: coffee\n",
      "Item 4: sugar\n"
     ]
    }
   ],
   "source": [
    "'''\n",
    "Introduction\n",
    "There are four types of data structures in Python:\n",
    "    List.\n",
    "    Tuple.\n",
    "    Dictionary.\n",
    "    Set.\n",
    "Each structure has its own set of operations that can be \n",
    "performed on the data stored in it.\n",
    "\n",
    "Lists\n",
    "They store multiple data sets at the same time\n",
    "Syntax:\n",
    "    var_name = [val1, val2, val3,...,valN]\n",
    "Each element has its own distinct position and index\n",
    "NB: Python allows mixed types in a list, i.e.,int & string\n",
    "'''\n",
    "# Initialize a list\n",
    "shopping = [\"bread\", \"milk\", \"coffee\", \"sugar\"]\n",
    "# Print out the list\n",
    "print(\"List:\", shopping)\n",
    "# Use a for loop to print out each individual item\n",
    "i = 1\n",
    "for item in shopping:\n",
    "    print(\"Item \" + str(i) +\":\",item)\n",
    "    i+=1"
   ]
  },
  {
   "cell_type": "code",
   "execution_count": 28,
   "id": "d3d102c5",
   "metadata": {},
   "outputs": [
    {
     "name": "stdout",
     "output_type": "stream",
     "text": [
      "Nested list: [[1, 2, 3], [4, 5, 6]]\n",
      "Row 1: [1, 2, 3]\n",
      "Row 2: [4, 5, 6]\n",
      "\n",
      "METHOD 1\n",
      "m[0][0]: 1\n",
      "m[0][1]: 2\n",
      "m[0][2]: 3\n",
      "m[1][0]: 4\n",
      "m[1][1]: 5\n",
      "m[1][2]: 6\n",
      "\n",
      "METHOD 2\n",
      "m[0][0]: 1\n",
      "m[0][1]: 2\n",
      "m[0][2]: 3\n",
      "m[1][0]: 4\n",
      "m[1][1]: 5\n",
      "m[1][2]: 6\n"
     ]
    }
   ],
   "source": [
    "'''\n",
    "Matrices as Nested Lists\n",
    "Syntax:\n",
    "    var_name = [[list1], [list2]] // this is a 2D array\n",
    "Accessing values in nested lists:\n",
    "    var_name[index1][index2]\n",
    "len(var_name) returns the number of nested lists, in our case, 2\n",
    "'''\n",
    "# Initialize a nested list\n",
    "m = [[1,2,3],[4,5,6]]\n",
    "print(\"Nested list:\", m)\n",
    "# Print out each row\n",
    "i = 1\n",
    "for row in m:\n",
    "    print(\"Row {}: {}\".format(i,row))\n",
    "    i+=1\n",
    "# Print out each element\n",
    "print(\"\\nMETHOD 1\")\n",
    "i,j = 0,0\n",
    "for row in m:\n",
    "    for col in row:\n",
    "        print(\"m[{}][{}]\".format(i,j)+\":\",col)\n",
    "        j+=1\n",
    "    i+=1\n",
    "    j = 0\n",
    "# Print out each element\n",
    "print(\"\\nMETHOD 2\")\n",
    "for i in range(len(m)):\n",
    "    for j in range(len(m[i])):\n",
    "        print(\"m[{}][{}]\".format(i,j)+\":\",m[i][j])\n",
    "        j+=1\n",
    "    i+=1\n",
    "    j = 0"
   ]
  },
  {
   "cell_type": "code",
   "execution_count": 2,
   "id": "b51ac8f5",
   "metadata": {},
   "outputs": [
    {
     "name": "stdout",
     "output_type": "stream",
     "text": [
      "X + Y = [[11, 13, 15], [17, 19, 21], [23, 25, 27]]\n",
      "X - Y = [[-9, -9, -9], [-9, -9, -9], [-9, -9, -9]]\n"
     ]
    }
   ],
   "source": [
    "'''\n",
    "Matrix Operation\n",
    "Matrix addition & subtraction requires both matrices to have the same \n",
    "dimensions; the results will also be of the same dimension\n",
    "'''\n",
    "# Initialize to matrices as nested list\n",
    "X = [[1,2,3],[4,5,6],[7,8,9]]\n",
    "Y = [[10,11,12],[13,14,15],[16,17,18]]\n",
    "# Initialize a matrix to store the result\n",
    "resultAdd = [[0,0,0],[0,0,0],[0,0,0]]\n",
    "resultSub = [[0,0,0],[0,0,0],[0,0,0]]\n",
    "# Add & subtract X and Y\n",
    "for i in range(len(X)):\n",
    "    for j in range(len(X[i])):\n",
    "        resultAdd[i][j] = X[i][j] + Y[i][j]\n",
    "        resultSub[i][j] = X[i][j] - Y[i][j]\n",
    "# Print out the two results\n",
    "print(\"X + Y =\",resultAdd)\n",
    "print(\"X - Y =\",resultSub)"
   ]
  },
  {
   "cell_type": "code",
   "execution_count": 8,
   "id": "33e5d180",
   "metadata": {},
   "outputs": [
    {
     "name": "stdout",
     "output_type": "stream",
     "text": [
      "[41, 44, 47, 50]\n",
      "[119, 128, 137, 146]\n",
      "[197, 212, 227, 242]\n"
     ]
    }
   ],
   "source": [
    "'''\n",
    "Matrix Multiplication Operations\n",
    "'''\n",
    "# Initialize the two matrices\n",
    "X = [[1,2],[4,5], [7,8]]\n",
    "Y = [[11,12,13,14], [15,16,17,18]]\n",
    "result = [[0,0,0,0], [0,0,0,0], [0,0,0,0]]\n",
    "# iterating by row of X\n",
    "for i in range(len(X)):\n",
    "    # iterating by column of Y\n",
    "    for j in range(len(Y[0])):\n",
    "        # iterating by rows of Y:\n",
    "        for k in range(len(Y)):\n",
    "            result[i][j] += X[i][k] * Y[k][j]\n",
    "for r in result:\n",
    "    print(r)"
   ]
  },
  {
   "cell_type": "code",
   "execution_count": 8,
   "id": "6e595cd2",
   "metadata": {},
   "outputs": [
    {
     "name": "stdout",
     "output_type": "stream",
     "text": [
      "*************** LIST METHODS ***************\n",
      "No of elements: 3 \n",
      "--------------------\n",
      "Combined list: [1, 2, 3, 4, 5, 6] \n",
      "--------------------\n",
      "Initial list: ['oi'] \n",
      "Duplicated list(*3): ['oi', 'oi', 'oi'] \n",
      "--------------------\n",
      "shopping[0]: bread\n",
      "shopping[1]: milk\n",
      "shopping[2]: eggs\n",
      "-------------------- \n",
      "eggs has been replaced with banana \n",
      "--------------------\n",
      "-ve indexing counts backwards, i.e., shopping[-1]: banana \n",
      "--------------------\n",
      "***** Slicing Lists *****\n",
      "shopping[0:2]: ['bread', 'milk']\n",
      "shopping[:3] ['bread', 'milk', 'banana']\n",
      "shopping[1:] ['milk', 'banana'] \n",
      "--------------------\n",
      "***** Append method *****\n",
      "Add eggs to shopping list: ['bread', 'milk', 'banana', 'eggs'] \n",
      "--------------------\n",
      "***** Insert method *****\n",
      "Add ham to the list(3rd item, index 2) ['bread', 'milk', 'ham', 'banana', 'eggs']\n"
     ]
    }
   ],
   "source": [
    "'''\n",
    "List Methods\n",
    "'''\n",
    "print(\"*\"*15,\"LIST METHODS\",\"*\"*15)\n",
    "# Initialize a string\n",
    "shopping = ['bread', 'milk', 'eggs']\n",
    "# len() returns the no of elements in a list\n",
    "print(\"No of elements:\", len(shopping),\"\\n\"+\"-\"*20)\n",
    "# concatenate two lists using the + operator\n",
    "list1 = [1,2,3]\n",
    "list2 = [4,5,6]\n",
    "print(\"Combined list:\", list1 + list2,\"\\n\"+\"-\"*20)\n",
    "# duplicate a list using the * operator\n",
    "list3 = ['oi']\n",
    "print(\"Initial list:\", list3, \"\\nDuplicated list(*3):\", list3 * 3,\"\\n\"+\"-\"*20)\n",
    "# accessing elements in a list using indexing\n",
    "for i in range(len(shopping)):\n",
    "    print(\"shopping[{}]\".format(i)+\":\", shopping[i])\n",
    "# replace an element in a list\n",
    "replacedItem = shopping[2]\n",
    "shopping[2] = \"banana\"\n",
    "print(\"-\"*20,\"\\n\"+replacedItem,\"has been replaced with\",shopping[2],\"\\n\"+\"-\"*20)\n",
    "# using -ve indexing\n",
    "print(\"-ve indexing counts backwards, i.e., shopping[-1]:\",shopping[-1],\"\\n\"+\"-\"*20)\n",
    "# slicing syntax: list[i:j], i = starting element, j = last element(non-inclusive)\n",
    "print(\"*\"*5,\"Slicing Lists\",\"*\"*5)\n",
    "print(\"shopping[0:2]:\", shopping[0:2])\n",
    "print(\"shopping[:3]\", shopping[:3])\n",
    "print(\"shopping[1:]\", shopping[1:],\"\\n\"+\"-\"*20)\n",
    "# append method to add new elements at the end of a list\n",
    "print(\"*\"*5,\"Append method\",\"*\"*5)\n",
    "shopping.append(\"eggs\")\n",
    "print(\"Add eggs to shopping list:\",shopping,\"\\n\"+\"-\"*20)\n",
    "'''\n",
    "# insert method to add new elements to a list\n",
    "# insert method requires a positional index to indicate \n",
    "# where the new element should be placed\n",
    "'''\n",
    "print(\"*\"*5,\"Insert method\",\"*\"*5)\n",
    "shopping.insert(2, \"ham\")\n",
    "print(\"Add ham to the list(3rd item, index 2)\",shopping)"
   ]
  },
  {
   "cell_type": "code",
   "execution_count": 16,
   "id": "098de702",
   "metadata": {},
   "outputs": [
    {
     "name": "stdout",
     "output_type": "stream",
     "text": [
      "item = ['apple', 'orange', 'banana']\n",
      "quantity = [5, 3, 2]\n",
      "----------------------------------------\n",
      "Combine the item and quantity list to a list of tuples using the zip()\n",
      "zip(item,quantity): <zip object at 0x0000022FD9149900>\n",
      "----------------------------------------\n",
      "Turn the zip object into a list\n",
      "list(orders): [('apple', 5), ('orange', 3), ('banana', 2)]\n",
      "----------------------------------------\n",
      "Turn the zip object into a tuple\n",
      "tuple(orders): (('apple', 5), ('orange', 3), ('banana', 2))\n",
      "----------------------------------------\n",
      "Turn the zip object into a dictionary\n",
      "dict(orders): {'apple': 5, 'orange': 3, 'banana': 2}\n",
      "----------------------------------------\n"
     ]
    }
   ],
   "source": [
    "\"\"\"\n",
    "Zipping & Unzipping Lists Using zip()\n",
    "\n",
    "zip() method allows us to aggregate lists. It maps similar index of multiple\n",
    "containers so that they can be used just as a single object.\n",
    "\n",
    "zip() object is an iterator and , therefore, once it has been converted\n",
    "to a list, tuple, or dictionary, it is considered a full iteration and it\n",
    "will not be able to generate anymore values\n",
    "\"\"\"\n",
    "# initialize two lists, one to store the names of the items and the other the number of the items\n",
    "item = [\"apple\",\"orange\",\"banana\"]\n",
    "quantity = [5,3,2]\n",
    "print(\"item =\",item)\n",
    "print(\"quantity =\",quantity)\n",
    "print(\"-\"*40)\n",
    "# use the zip() to combine the two lists inot a list of tuples\n",
    "print(\"Combine the item and quantity list to a list of tuples using the zip()\")\n",
    "orders = zip(item, quantity)\n",
    "print(\"zip(item,quantity):\",orders)\n",
    "print(\"-\"*40)\n",
    "print(\"Turn the zip object into a list\")\n",
    "print(\"list(orders):\",list(orders))\n",
    "print(\"-\"*40)\n",
    "print(\"Turn the zip object into a tuple\")\n",
    "orders = zip(item, quantity)\n",
    "print(\"tuple(orders):\",tuple(orders))\n",
    "print(\"-\"*40)\n",
    "print(\"Turn the zip object into a dictionary\")\n",
    "orders = zip(item, quantity)\n",
    "print(\"dict(orders):\",dict(orders))\n",
    "print(\"-\"*40)"
   ]
  },
  {
   "cell_type": "code",
   "execution_count": null,
   "id": "97fef04d",
   "metadata": {},
   "outputs": [],
   "source": []
  }
 ],
 "metadata": {
  "kernelspec": {
   "display_name": "Python 3",
   "language": "python",
   "name": "python3"
  },
  "language_info": {
   "codemirror_mode": {
    "name": "ipython",
    "version": 3
   },
   "file_extension": ".py",
   "mimetype": "text/x-python",
   "name": "python",
   "nbconvert_exporter": "python",
   "pygments_lexer": "ipython3",
   "version": "3.8.8"
  }
 },
 "nbformat": 4,
 "nbformat_minor": 5
}
