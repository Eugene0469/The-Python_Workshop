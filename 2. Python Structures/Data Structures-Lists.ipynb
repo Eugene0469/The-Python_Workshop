{
 "cells": [
  {
   "cell_type": "code",
   "execution_count": 6,
   "id": "433dc245",
   "metadata": {},
   "outputs": [
    {
     "name": "stdout",
     "output_type": "stream",
     "text": [
      "List: ['bread', 'milk', 'coffee', 'sugar']\n",
      "Item 1: bread\n",
      "Item 2: milk\n",
      "Item 3: coffee\n",
      "Item 4: sugar\n"
     ]
    }
   ],
   "source": [
    "'''\n",
    "Introduction\n",
    "There are four types of data structures in Python:\n",
    "    List.\n",
    "    Tuple.\n",
    "    Dictionary.\n",
    "    Set.\n",
    "Each structure has its own set of operations that can be \n",
    "performed on the data stored in it.\n",
    "\n",
    "Lists\n",
    "They store multiple data sets at the same time\n",
    "Syntax:\n",
    "    var_name = [val1, val2, val3,...,valN]\n",
    "Each element has its own distinct position and index\n",
    "NB: Python allows mixed types in a list, i.e.,int & string\n",
    "'''\n",
    "# Initialize a list\n",
    "shopping = [\"bread\", \"milk\", \"coffee\", \"sugar\"]\n",
    "# Print out the list\n",
    "print(\"List:\", shopping)\n",
    "# Use a for loop to print out each individual item\n",
    "i = 1\n",
    "for item in shopping:\n",
    "    print(\"Item \" + str(i) +\":\",item)\n",
    "    i+=1"
   ]
  },
  {
   "cell_type": "code",
   "execution_count": 28,
   "id": "d3d102c5",
   "metadata": {},
   "outputs": [
    {
     "name": "stdout",
     "output_type": "stream",
     "text": [
      "Nested list: [[1, 2, 3], [4, 5, 6]]\n",
      "Row 1: [1, 2, 3]\n",
      "Row 2: [4, 5, 6]\n",
      "\n",
      "METHOD 1\n",
      "m[0][0]: 1\n",
      "m[0][1]: 2\n",
      "m[0][2]: 3\n",
      "m[1][0]: 4\n",
      "m[1][1]: 5\n",
      "m[1][2]: 6\n",
      "\n",
      "METHOD 2\n",
      "m[0][0]: 1\n",
      "m[0][1]: 2\n",
      "m[0][2]: 3\n",
      "m[1][0]: 4\n",
      "m[1][1]: 5\n",
      "m[1][2]: 6\n"
     ]
    }
   ],
   "source": [
    "'''\n",
    "Matrices as Nested Lists\n",
    "Syntax:\n",
    "    var_name = [[list1], [list2]] // this is a 2D array\n",
    "Accessing values in nested lists:\n",
    "    var_name[index1][index2]\n",
    "len(var_name) returns the number of nested lists, in our case, 2\n",
    "'''\n",
    "# Initialize a nested list\n",
    "m = [[1,2,3],[4,5,6]]\n",
    "print(\"Nested list:\", m)\n",
    "# Print out each row\n",
    "i = 1\n",
    "for row in m:\n",
    "    print(\"Row {}: {}\".format(i,row))\n",
    "    i+=1\n",
    "# Print out each element\n",
    "print(\"\\nMETHOD 1\")\n",
    "i,j = 0,0\n",
    "for row in m:\n",
    "    for col in row:\n",
    "        print(\"m[{}][{}]\".format(i,j)+\":\",col)\n",
    "        j+=1\n",
    "    i+=1\n",
    "    j = 0\n",
    "# Print out each element\n",
    "print(\"\\nMETHOD 2\")\n",
    "for i in range(len(m)):\n",
    "    for j in range(len(m[i])):\n",
    "        print(\"m[{}][{}]\".format(i,j)+\":\",m[i][j])\n",
    "        j+=1\n",
    "    i+=1\n",
    "    j = 0"
   ]
  },
  {
   "cell_type": "code",
   "execution_count": null,
   "id": "b51ac8f5",
   "metadata": {},
   "outputs": [],
   "source": []
  }
 ],
 "metadata": {
  "kernelspec": {
   "display_name": "Python 3",
   "language": "python",
   "name": "python3"
  },
  "language_info": {
   "codemirror_mode": {
    "name": "ipython",
    "version": 3
   },
   "file_extension": ".py",
   "mimetype": "text/x-python",
   "name": "python",
   "nbconvert_exporter": "python",
   "pygments_lexer": "ipython3",
   "version": "3.8.8"
  }
 },
 "nbformat": 4,
 "nbformat_minor": 5
}
