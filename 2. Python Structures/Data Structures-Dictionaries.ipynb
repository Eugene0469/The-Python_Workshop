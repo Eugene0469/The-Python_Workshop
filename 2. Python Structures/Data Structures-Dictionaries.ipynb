{
 "cells": [
  {
   "cell_type": "code",
   "execution_count": 30,
   "id": "b39c38a4",
   "metadata": {},
   "outputs": [
    {
     "name": "stdout",
     "output_type": "stream",
     "text": [
      "******************** Dictionaries ********************\n",
      "Accessing dictionary elements,movie[\"year\"]: 1972\n",
      "The rating of the movie has changed from 9.2 to 9.5\n",
      "---------------------------------------- \n",
      "***** New Dictionary *****\n",
      "tvShow[title]: Modern Family\n",
      "tvShow[director]: Steven Levitan\n",
      "tvShow[year]: 2009\n",
      "tvShow[rating]: 8.7\n",
      "---------------------------------------- \n",
      "Actors in Modern Family include:\n",
      "Ty Burell\n",
      "Sofia Vergara\n",
      "Eric Stonestreet\n",
      "---------------------------------------- \n",
      "***** Nested Dictionary *****\n",
      "NB: other_details key has a nested dictionary as its value\n",
      "\n",
      "{'title': 'Modern Family', 'director': 'Steven Levitan', 'year': 2009, 'rating': 8.7, 'actors': ['Ty Burell', 'Sofia Vergara', 'Eric Stonestreet'], 'other_details': {'no of seasons': 11, 'language': 'English'}}\n"
     ]
    }
   ],
   "source": [
    "'''\n",
    "A python dictionary is an unordered collection\n",
    "Syntax:\n",
    "    var_name = {\n",
    "        key : value,\n",
    "        key : value,\n",
    "        key : value\n",
    "    }\n",
    "NB: Syntax of a dictionary resembles that of a JSON string.\n",
    "    However, a dictionary is a data structure with its own \n",
    "    algorithms while JSON is just a pure string written in \n",
    "    a similar format.\n",
    "Dictionary elements are accessed via keys\n",
    "Rules to remember:\n",
    "1. Keys must be unique.\n",
    "2. Keys must b unchangeable/immutable - they can be a string\n",
    "   a number or a tuple. \n",
    "'''\n",
    "# initialize a dictionary variable\n",
    "movie = {\n",
    "    \"title\" : \"The Godfather\",\n",
    "    \"director\" : \"Francis Ford Coppola\",\n",
    "    \"year\" : 1972,\n",
    "    \"rating\" : 9.2\n",
    "}\n",
    "# access the dictionary elements using their keys\n",
    "print(\"*\"*20,\"Dictionaries\",\"*\"*20)\n",
    "print(\"Accessing dictionary elements,movie[\\\"year\\\"]:\", movie[\"year\"])\n",
    "# Update the value of a dictionary element\n",
    "temp = movie[\"rating\"]\n",
    "movie[\"rating\"] = 9.5\n",
    "print(\"The rating of the movie has changed from\", temp,\"to\",movie[\"rating\"])\n",
    "# constructing a dictionary from scratch\n",
    "tvShow = {}\n",
    "# assigning key-value pairs to the dictionary\n",
    "tvShow[\"title\"] = \"Modern Family\"\n",
    "tvShow[\"director\"] = \"Steven Levitan\"\n",
    "tvShow[\"year\"] = 2009\n",
    "tvShow[\"rating\"] = 8.7\n",
    "print(\"-\"*40,\"\\n\"+\"*\"*5,\"New Dictionary\",\"*\"*5)\n",
    "for key in tvShow:\n",
    "    print(\"tvShow[{}]: {}\".format(key,tvShow[key]))\n",
    "# store a list inside a dictionary\n",
    "tvShow[\"actors\"] = [\"Ty Burell\", \"Sofia Vergara\", \"Eric Stonestreet\"]\n",
    "print(\"-\"*40,\"\\nActors in\",tvShow[\"title\"], \"include:\")\n",
    "for row in tvShow[\"actors\"]:\n",
    "    print(row)\n",
    "# nest a dictionary in another dictionary\n",
    "tvShow[\"other_details\"] = {\n",
    "    \"no of seasons\" : 11,\n",
    "    \"language\" : \"English\"\n",
    "}\n",
    "print(\"-\"*40,\"\\n\"+\"*\"*5,\"Nested Dictionary\",\"*\"*5)\n",
    "print(\"NB: other_details key has a nested dictionary as its value\\n\")\n",
    "print(tvShow)"
   ]
  },
  {
   "cell_type": "code",
   "execution_count": 6,
   "id": "b4e6831c",
   "metadata": {},
   "outputs": [
    {
     "name": "stdout",
     "output_type": "stream",
     "text": [
      "******************** Dictionary Methods ******************** \n",
      "\n",
      "orders = {'apple': 5, 'orange': 3, 'banana': 2}\n",
      "---------------------------------------- \n",
      "Print out the values of the dictionary:\n",
      "\n",
      "orders.values() = dict_values([5, 3, 2])\n",
      "list(orders.values()) = [5, 3, 2]\n",
      "---------------------------------------- \n",
      "Print out the keys of the dictionary:\n",
      "\n",
      "orders.keys() = dict_keys(['apple', 'orange', 'banana'])\n",
      "list(orders.keys()) = ['apple', 'orange', 'banana']\n",
      "---------------------------------------- \n",
      "Iterate through the dictionary by first converting it to a list of tuples using the items() method:\n",
      "\n",
      "orders.items() = dict_items([('apple', 5), ('orange', 3), ('banana', 2)])\n",
      "list(orders.items()) = [('apple', 5), ('orange', 3), ('banana', 2)]\n",
      "tuple 1: ('apple', 5)\n",
      "tuple 2: ('orange', 3)\n",
      "tuple 3: ('banana', 2)\n"
     ]
    }
   ],
   "source": [
    "'''\n",
    "Dictionary Methods\n",
    "'''\n",
    "# initialize a dictionary\n",
    "orders = {'apple' : 5, 'orange' : 3, 'banana' : 2}\n",
    "print('*'*20,'Dictionary Methods','*'*20,'\\n')\n",
    "print('orders =',orders)\n",
    "print('-'*40,'\\nPrint out the values of the dictionary:\\n')\n",
    "print('orders.values() =',orders.values())\n",
    "print('list(orders.values()) =',list(orders.values()))\n",
    "print('-'*40,'\\nPrint out the keys of the dictionary:\\n')\n",
    "print('orders.keys() =', orders.keys())\n",
    "print('list(orders.keys()) =',list(orders.keys()))\n",
    "print('-'*40,'\\nIterate through the dictionary by first converting it to a list of tuples using the items() method:\\n')\n",
    "print('orders.items() =', orders.items())\n",
    "print('list(orders.items()) =', list(orders.items()))\n",
    "i = 1\n",
    "for tuple in list(orders.items()):\n",
    "    print('tuple',str(i) + ':', tuple)\n",
    "    i+=1"
   ]
  },
  {
   "cell_type": "code",
   "execution_count": 1,
   "id": "6df1a55e",
   "metadata": {},
   "outputs": [
    {
     "data": {
      "text/plain": [
       "<BarContainer object of 6 artists>"
      ]
     },
     "execution_count": 1,
     "metadata": {},
     "output_type": "execute_result"
    },
    {
     "data": {
      "image/png": "[encoded data removed]",
      "text/plain": [
       "<Figure size 432x288 with 1 Axes>"
      ]
     },
     "metadata": {
      "needs_background": "light"
     },
     "output_type": "display_data"
    }
   ],
   "source": [
    "import matplotlib.pyplot as plt\n",
    "# Initialize a dictionary to store the grade and the corresponding number of students with that grade\n",
    "studentData = {'A':20, 'B':30, 'C':10, 'D':5, 'E':8, 'F':2}\n",
    "\n",
    "# Plot the bar chart with our dataset and customize the color command\n",
    "plt.bar(list(studentData.keys()), list(studentData.values()), color=['green', 'gray', 'gray', 'gray', 'gray', 'red'])\n"
   ]
  }
 ],
 "metadata": {
  "kernelspec": {
   "display_name": "Python 3",
   "language": "python",
   "name": "python3"
  },
  "language_info": {
   "codemirror_mode": {
    "name": "ipython",
    "version": 3
   },
   "file_extension": ".py",
   "mimetype": "text/x-python",
   "name": "python",
   "nbconvert_exporter": "python",
   "pygments_lexer": "ipython3",
   "version": "3.8.8"
  }
 },
 "nbformat": 4,
 "nbformat_minor": 5
}
