{
 "cells": [
  {
   "cell_type": "code",
   "execution_count": 4,
   "id": "270b2525",
   "metadata": {},
   "outputs": [
    {
     "name": "stdout",
     "output_type": "stream",
     "text": [
      "AND operation: False\n",
      "OR operation: True\n",
      "NOT operation: False\n",
      "NOT and OR operation: True\n"
     ]
    }
   ],
   "source": [
    "'''\n",
    "Logical Operators\n",
    "let A = True B = True Y = False Z = False\n",
    "Not negates the value:\n",
    "    not A = False\n",
    "And implementation\n",
    "    A and B = True\n",
    "    A and Y = False\n",
    "Or implementation\n",
    "    A or Y = True\n",
    "    Y or Z = False\n",
    "'''\n",
    "over18 , over21 = True , False\n",
    "print(\"AND operation:\",(over18 and over21))\n",
    "print(\"OR operation:\", over18 or over21)\n",
    "print(\"NOT operation:\", not over18)\n",
    "print(\"NOT and OR operation:\", not over21 or(over21 or over18))"
   ]
  },
  {
   "cell_type": "code",
   "execution_count": null,
   "id": "9bc79b41",
   "metadata": {},
   "outputs": [],
   "source": [
    "'''\n",
    "Comparison Operators\n",
    "'''"
   ]
  }
 ],
 "metadata": {
  "kernelspec": {
   "display_name": "Python 3",
   "language": "python",
   "name": "python3"
  },
  "language_info": {
   "codemirror_mode": {
    "name": "ipython",
    "version": 3
   },
   "file_extension": ".py",
   "mimetype": "text/x-python",
   "name": "python",
   "nbconvert_exporter": "python",
   "pygments_lexer": "ipython3",
   "version": "3.8.8"
  }
 },
 "nbformat": 4,
 "nbformat_minor": 5
}
