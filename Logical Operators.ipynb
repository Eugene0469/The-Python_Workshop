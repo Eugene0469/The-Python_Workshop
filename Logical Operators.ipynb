{
 "cells": [
  {
   "cell_type": "code",
   "execution_count": 4,
   "id": "270b2525",
   "metadata": {},
   "outputs": [
    {
     "name": "stdout",
     "output_type": "stream",
     "text": [
      "AND operation: False\n",
      "OR operation: True\n",
      "NOT operation: False\n",
      "NOT and OR operation: True\n"
     ]
    }
   ],
   "source": [
    "'''\n",
    "Logical Operators\n",
    "let A = True B = True Y = False Z = False\n",
    "Not negates the value:\n",
    "    not A = False\n",
    "And implementation\n",
    "    A and B = True\n",
    "    A and Y = False\n",
    "Or implementation\n",
    "    A or Y = True\n",
    "    Y or Z = False\n",
    "'''\n",
    "over18 , over21 = True , False\n",
    "print(\"AND operation:\",(over18 and over21))\n",
    "print(\"OR operation:\", over18 or over21)\n",
    "print(\"NOT operation:\", not over18)\n",
    "print(\"NOT and OR operation:\", not over21 or(over21 or over18))"
   ]
  },
  {
   "cell_type": "code",
   "execution_count": 14,
   "id": "9bc79b41",
   "metadata": {},
   "outputs": [
    {
     "name": "stdout",
     "output_type": "stream",
     "text": [
      "Please enter your age: 20\n",
      "Is age less than 13: False\n",
      "Is age between 20 and 21: True\n",
      "Is age not equivalent to 21: True\n",
      "Is age equal to 19: False\n",
      "Is age in its 20s or 30s: True\n"
     ]
    }
   ],
   "source": [
    "'''\n",
    "Comparison Operators\n",
    "'''\n",
    "age = int(input(\"Please enter your age: \"))\n",
    "print(\"Is age less than 13:\", (age < 13))\n",
    "print(\"Is age between 20 and 21:\", (20 <= age <= 21))\n",
    "print(\"Is age not equivalent to 21:\", (age != 21))\n",
    "print(\"Is age equal to 19:\", (age == 19))\n",
    "print(\"Is age in its 20s or 30s:\",((20 <= age < 30) or (30 <= age < 40)))\n"
   ]
  },
  {
   "cell_type": "code",
   "execution_count": 17,
   "id": "24777cc1",
   "metadata": {},
   "outputs": [
    {
     "name": "stdout",
     "output_type": "stream",
     "text": [
      "Is a less than c: True\n",
      "Is New York greater than San Fransisco: False\n"
     ]
    }
   ],
   "source": [
    "'''\n",
    "Comparing Strings\n",
    "Python uses the convention of alphabetical order\n",
    "to compare strings, like the order in a dictionary\n",
    "'''\n",
    "# a comes before c\n",
    "print(\"Is a less than c:\", ('a' < 'c'))\n",
    "# New York comes before San Fransisco in the dictionary\n",
    "print(\"Is New York greater than San Fransisco:\", ('New York' > 'San Fransisco'))"
   ]
  },
  {
   "cell_type": "code",
   "execution_count": null,
   "id": "2f77dc71",
   "metadata": {},
   "outputs": [],
   "source": []
  }
 ],
 "metadata": {
  "kernelspec": {
   "display_name": "Python 3",
   "language": "python",
   "name": "python3"
  },
  "language_info": {
   "codemirror_mode": {
    "name": "ipython",
    "version": 3
   },
   "file_extension": ".py",
   "mimetype": "text/x-python",
   "name": "python",
   "nbconvert_exporter": "python",
   "pygments_lexer": "ipython3",
   "version": "3.8.8"
  }
 },
 "nbformat": 4,
 "nbformat_minor": 5
}
