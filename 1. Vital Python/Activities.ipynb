{
 "cells": [
  {
   "cell_type": "code",
   "execution_count": 4,
   "id": "9ec5afcd",
   "metadata": {},
   "outputs": [
    {
     "name": "stdout",
     "output_type": "stream",
     "text": [
      "x: 9.0\n"
     ]
    }
   ],
   "source": [
    "\"\"\"\n",
    "Activity 1: Assigning Values to Variables\n",
    "\"\"\"\n",
    "x = 14 # Declare and initialize variable x with value 14\n",
    "x+= 1 # Add 1 \n",
    "x/=5 # Divide by 5\n",
    "x**=2 # Raise the value in x to the power of 2\n",
    "print(\"x:\",x)"
   ]
  },
  {
   "cell_type": "code",
   "execution_count": 6,
   "id": "d625a423",
   "metadata": {},
   "outputs": [
    {
     "name": "stdout",
     "output_type": "stream",
     "text": [
      "Distance: 5.385164807134504\n"
     ]
    }
   ],
   "source": [
    "\"\"\"\n",
    "Activity 2: Finding a Solution \n",
    "Using the Pythagorean Theorem in Python\n",
    "\"\"\"\n",
    "# Initialize variables\n",
    "x,y,z = 2,3,4\n",
    "# Pythagorean Theorem in 3 dimensions\n",
    "w_squared = x**2 + y**2 + z**2\n",
    "# The square root gives the distance\n",
    "w = w_squared ** 0.5\n",
    "# Print out the distance\n",
    "print(\"Distance:\",w)\n",
    "\n"
   ]
  },
  {
   "cell_type": "code",
   "execution_count": 2,
   "id": "ca35f029",
   "metadata": {},
   "outputs": [
    {
     "name": "stdout",
     "output_type": "stream",
     "text": [
      "Please rate your day on a number scale of 1 to 10.5\n",
      "You feel like a 5 today. Thanks for letting me know\n"
     ]
    }
   ],
   "source": [
    "'''\n",
    "Activity 3: Using the input() Function to \n",
    "Rate Your Day\n",
    "'''\n",
    "# Prompt the user\n",
    "rate = input(\"Please rate your day on a number scale of 1 to 10.\")\n",
    "# Print out the user's answer\n",
    "print(\"You feel like a {} today. Thanks for letting me know\".format(rate))\n"
   ]
  },
  {
   "cell_type": "code",
   "execution_count": 5,
   "id": "7949ab42",
   "metadata": {},
   "outputs": [
    {
     "name": "stdout",
     "output_type": "stream",
     "text": [
      "Enter the first number: 24\n",
      "Enter the second number: 36\n",
      "Least Common Multiple for 24 and 36 is 72:\n"
     ]
    }
   ],
   "source": [
    "'''\n",
    "Activity 4: Finding the Least Common Multiple(LCM)\n",
    "'''\n",
    "x = int(input(\"Enter the first number: \"))\n",
    "y = int(input(\"Enter the second number: \"))\n",
    "i = 1\n",
    "while True:\n",
    "    if ((i % x == 0) and (i % y == 0)):\n",
    "        print(\"Least Common Multiple of {} and {} is {}:\".format(x,y,i))\n",
    "        break\n",
    "    i+=1   \n",
    "    "
   ]
  },
  {
   "cell_type": "code",
   "execution_count": 6,
   "id": "2abba78a",
   "metadata": {},
   "outputs": [
    {
     "name": "stdout",
     "output_type": "stream",
     "text": [
      "What is your name: Eugene\n",
      "We are kindred spirits  Eugene . Talk later.\n",
      "Have you eaten today?\n",
      "no\n",
      "Likewise...\n"
     ]
    }
   ],
   "source": [
    "'''\n",
    "Activity 5: Building Conversation Bots Using Python\n",
    "'''\n",
    "name = input(\"What is your name: \")\n",
    "print(\"We are kindred spirits \", name, \". Talk later.\")\n",
    "yes_no = input(\"Have you eaten today?\\n\")\n",
    "print(\"Likewise...\")"
   ]
  },
  {
   "cell_type": "code",
   "execution_count": 8,
   "id": "8d092ef2",
   "metadata": {},
   "outputs": [
    {
     "name": "stdout",
     "output_type": "stream",
     "text": [
      "How intelligent are you? 0 is very dumb. And 10 is a genius\n",
      "6\n",
      "Pretty smart i see. How much time do you spend reading? 0 is none at all. And 10 is all the time\n",
      "6\n",
      "Makes sense...\n"
     ]
    }
   ],
   "source": [
    "'''\n",
    "Activity 5: Building Conversation Bots Using Python\n",
    "'''\n",
    "smarts = abs(int(input(\"How intelligent are you? 0 is very dumb. And 10 is a genius\\n\")))\n",
    "if smarts <= 5:\n",
    "    print(\"Are you really dumb? Wait. Dont answer that\")\n",
    "    young = abs(int(input(\"How young are you? 0 is not yet born and 10 is very old\\n\")))\n",
    "    if young <= 5:\n",
    "        print(\"Hold up! Hold up! What did you saaaay!! I'm gone.\")\n",
    "    else:\n",
    "        print(\"Then you are not dumb...\")\n",
    "elif smarts <= 8:\n",
    "    print(\"Pretty smart i see. How much time do you spend reading? 0 is none at all. And 10 is all the time\")\n",
    "    time = int(input())\n",
    "    if time <= 5:\n",
    "        print(\"You are lying..\")\n",
    "    else:\n",
    "        print(\"Makes sense...\")\n",
    "else:\n",
    "    print(\"WHAAAAT!!!You must be in the MENSA list\")"
   ]
  },
  {
   "cell_type": "code",
   "execution_count": null,
   "id": "3c1287cd",
   "metadata": {},
   "outputs": [],
   "source": []
  }
 ],
 "metadata": {
  "kernelspec": {
   "display_name": "Python 3",
   "language": "python",
   "name": "python3"
  },
  "language_info": {
   "codemirror_mode": {
    "name": "ipython",
    "version": 3
   },
   "file_extension": ".py",
   "mimetype": "text/x-python",
   "name": "python",
   "nbconvert_exporter": "python",
   "pygments_lexer": "ipython3",
   "version": "3.8.8"
  }
 },
 "nbformat": 4,
 "nbformat_minor": 5
}
