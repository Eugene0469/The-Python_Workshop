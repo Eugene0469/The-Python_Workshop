{
 "cells": [
  {
   "cell_type": "code",
   "execution_count": 12,
   "id": "b12caef1",
   "metadata": {},
   "outputs": [
    {
     "name": "stdout",
     "output_type": "stream",
     "text": [
      "Intro to Strings\n"
     ]
    }
   ],
   "source": [
    "'''\n",
    "Strings\n",
    "In the following section, we shall look at strings,\n",
    "their methods & how to concatenate strings.\n",
    "We shall also look at methods such as print() and\n",
    "len()\n",
    "'''\n",
    "print(\"Intro to Strings\")"
   ]
  },
  {
   "cell_type": "code",
   "execution_count": 11,
   "id": "3cdbfb11",
   "metadata": {},
   "outputs": [
    {
     "name": "stdout",
     "output_type": "stream",
     "text": [
      "Moe's\n"
     ]
    }
   ],
   "source": [
    "# Variable initialization of a string\n",
    "bookStore = 'City lights'\n",
    "'''To use the apostrophe, it is better to use \n",
    "double quotes \n",
    "'''\n",
    "bookStore = \"Moe's\"\n",
    "'''\n",
    "Python uses the backslash character, \\, \n",
    "called an escape sequence in strings, \n",
    "to allow for the insertion of any type of \n",
    "quote inside of strings. \n",
    "'''\n",
    "bookStore = 'Moe\\'s'\n",
    "print(bookStore)"
   ]
  },
  {
   "cell_type": "code",
   "execution_count": 10,
   "id": "41db5bba",
   "metadata": {},
   "outputs": [
    {
     "name": "stdout",
     "output_type": "stream",
     "text": [
      "\n",
      "During our vacation to San Francisco, we waited in a long line by \n",
      "Powell St. Station to take the cable car. Tap dancers performed on \n",
      "wooden boards. By the time our cable car arrived, we started looking \n",
      "online for a good place to eat. We're heading to North Beach.\n",
      "\n"
     ]
    }
   ],
   "source": [
    "\"\"\"\n",
    "Multi-Line Strings\n",
    "When strings need to span multiple lines,\n",
    "Python provides triple quoted, using single\n",
    "or double quotation marks, as a nice option\n",
    "\"\"\"\n",
    "vacationNote = '''\n",
    "During our vacation to San Francisco, we waited in a long line by \n",
    "Powell St. Station to take the cable car. Tap dancers performed on \n",
    "wooden boards. By the time our cable car arrived, we started looking \n",
    "online for a good place to eat. We're heading to North Beach.\n",
    "'''\n",
    "print(vacationNote)"
   ]
  },
  {
   "cell_type": "code",
   "execution_count": 15,
   "id": "1b042ca2",
   "metadata": {},
   "outputs": [
    {
     "name": "stdout",
     "output_type": "stream",
     "text": [
      "Hola Senor\n",
      "HolaHolaHolaHolaHola\n"
     ]
    }
   ],
   "source": [
    "'''\n",
    "String Operations and Concatenation\n",
    "The + operator combines two strings into one.\n",
    "The * operator repeats a string.\n",
    "'''\n",
    "spanishGreeting = 'Hola'\n",
    "# String Concatenation\n",
    "print(spanishGreeting + ' Senor')\n",
    "# String Repetition\n",
    "print(spanishGreeting * 5)"
   ]
  },
  {
   "cell_type": "code",
   "execution_count": 17,
   "id": "542a7638",
   "metadata": {},
   "outputs": [
    {
     "name": "stdout",
     "output_type": "stream",
     "text": [
      "Should we greet people with Ciao in North Beach\n",
      "Eugene Mwangi is 26 years old\n"
     ]
    }
   ],
   "source": [
    "'''\n",
    "String Interpolation\n",
    "This is the process of including variable names as \n",
    "placeholders within the string.\n",
    "There are two standard methods for achieving this:\n",
    "1. comma separators\n",
    "It is similar to the + operator, except it adds \n",
    "spacing for you\n",
    "2. format\n",
    "The format is accessed using brackets and dot notation\n",
    "{} are used in the place of the variable.\n",
    "'''\n",
    "# Comma Separators\n",
    "italianGreeting = 'Ciao'\n",
    "print('Should we greet people with', italianGreeting,'in North Beach')\n",
    "# Format\n",
    "owner = 'Eugene Mwangi'\n",
    "age = 26\n",
    "print('{} is {} years old'.format(owner,age))"
   ]
  },
  {
   "cell_type": "code",
   "execution_count": 2,
   "id": "815dc2dc",
   "metadata": {},
   "outputs": [
    {
     "data": {
      "text/plain": [
       "8"
      ]
     },
     "execution_count": 2,
     "metadata": {},
     "output_type": "execute_result"
    }
   ],
   "source": [
    "'''\n",
    "The len() function\n",
    "Determines the number of characters in a string,\n",
    "including the blank spaces.\n",
    "'''\n",
    "# Initialize a string variable\n",
    "shengGreeting = \"Oya Buda\"\n",
    "len(shengGreeting)"
   ]
  },
  {
   "cell_type": "code",
   "execution_count": 8,
   "id": "b94e187f",
   "metadata": {},
   "outputs": [
    {
     "name": "stdout",
     "output_type": "stream",
     "text": [
      "oya buda\n",
      "Oya buda\n",
      "OYA BUDA\n",
      "1\n",
      "Oya Buda\n"
     ]
    }
   ],
   "source": [
    "'''\n",
    "String Methods\n",
    "They are accessed via dot notation\n",
    "'''\n",
    "# Convert to lower case\n",
    "print(shengGreeting.lower())\n",
    "# Capitalize the name\n",
    "print(shengGreeting.capitalize())\n",
    "# Convert to upper case\n",
    "print(shengGreeting.upper())\n",
    "# Count the number of a specific character\n",
    "print(shengGreeting.count('u'))\n",
    "# The methods do not change the original variable\n",
    "print(shengGreeting)"
   ]
  },
  {
   "cell_type": "code",
   "execution_count": 10,
   "id": "747ae114",
   "metadata": {},
   "outputs": [
    {
     "name": "stdout",
     "output_type": "stream",
     "text": [
      "57\n",
      "12\n"
     ]
    }
   ],
   "source": [
    "'''\n",
    "Casting\n",
    "Convert one data type to another.\n",
    "'''\n",
    "# Declare two numbers as strings\n",
    "num1, num2 = '5', '7'\n",
    "# Using the + operator concatenates the two variables\n",
    "print(num1 + num2)\n",
    "# Use casting to treat the variables as integers\n",
    "print(int(num1) + int(num2))"
   ]
  },
  {
   "cell_type": "code",
   "execution_count": 12,
   "id": "73d4c4ac",
   "metadata": {},
   "outputs": [
    {
     "name": "stdout",
     "output_type": "stream",
     "text": [
      "What is your name?\n",
      "Eugene\n",
      "Hello,Eugene.\n",
      "What is your name?Mwangi\n",
      "Hello,Mwangi.\n"
     ]
    }
   ],
   "source": [
    "'''\n",
    "The input() Function\n",
    "It allows the program to take the user's input\n",
    "'''\n",
    "# Prompt the user to enter their name\n",
    "print(\"What is your name?\")\n",
    "name = input()\n",
    "print(\"Hello,\" + name + \".\")\n",
    "# You can combine the print function to the input function\n",
    "name = input(\"What is your name?\")\n",
    "print(\"Hello,\" + name + \".\")"
   ]
  },
  {
   "cell_type": "code",
   "execution_count": 4,
   "id": "3055d254",
   "metadata": {},
   "outputs": [
    {
     "name": "stdout",
     "output_type": "stream",
     "text": [
      "i\n",
      "Rongai\n",
      "Ongata\n",
      "Rongai\n"
     ]
    }
   ],
   "source": [
    "'''\n",
    "String Indexing and Slicing\n",
    "Indexing\n",
    "Character value: O  n  g  a  t  a\n",
    "Index Coutn    : 0  1  2  3  4  5\n",
    "Index Count    :-6 -5 -4 -3 -2 -1\n",
    "NB: An empty string is defined as ''\n",
    "    with no spaces in btwn the quotation marks\n",
    "Slicing\n",
    "This is a subset of a string.\n",
    "When slicing, the : is inserted btwn the indices\n",
    "Eg: to access the 5th(index 4) to the 11th(index 10)\n",
    "letters of a string: [4:11]\n",
    "Note: it is not [4:10] because the upper bound is not\n",
    "      included in the sliced part of the string\n",
    "\n",
    "'''\n",
    "# -ve Nos start at the end of the string\n",
    "destination = \"Ongata Rongai\"\n",
    "print(destination[-1])\n",
    "# To only print out Rongai\n",
    "print(destination[7:13])\n",
    "# Shortcut to retrieve the first n characters of the string\n",
    "print(destination[:6])\n",
    "# Shortcut to retrieve the last n characters of the string\n",
    "print(destination[-6:])"
   ]
  },
  {
   "cell_type": "code",
   "execution_count": null,
   "id": "626cd4c9",
   "metadata": {},
   "outputs": [],
   "source": []
  }
 ],
 "metadata": {
  "kernelspec": {
   "display_name": "Python 3",
   "language": "python",
   "name": "python3"
  },
  "language_info": {
   "codemirror_mode": {
    "name": "ipython",
    "version": 3
   },
   "file_extension": ".py",
   "mimetype": "text/x-python",
   "name": "python",
   "nbconvert_exporter": "python",
   "pygments_lexer": "ipython3",
   "version": "3.8.8"
  }
 },
 "nbformat": 4,
 "nbformat_minor": 5
}
