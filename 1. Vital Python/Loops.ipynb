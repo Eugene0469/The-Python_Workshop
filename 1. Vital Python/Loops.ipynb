{
 "cells": [
  {
   "cell_type": "code",
   "execution_count": 8,
   "id": "bcfd61a5",
   "metadata": {},
   "outputs": [
    {
     "name": "stdout",
     "output_type": "stream",
     "text": [
      "1\n",
      "2\n",
      "3\n",
      "4\n",
      "5\n",
      "102 is divisible by 17, which is equal to 6.\n"
     ]
    }
   ],
   "source": [
    "'''\n",
    "Loops\n",
    "while (condition):\n",
    "    # Code to execute\n",
    "break: when encountered, the program breaks out of \n",
    "       the loop\n",
    "'''\n",
    "# Initialize a variable\n",
    "i = 1\n",
    "# Print out the first 5 numbers\n",
    "while (i <= 5):\n",
    "    print(i)\n",
    "    i += 1\n",
    "# Print the first number greater than 100 that is divisible by 17\n",
    "x = 100\n",
    "while (x >= 100):\n",
    "    x += 1\n",
    "    if ((x % 17) == 0):\n",
    "        print(\"{} is divisible by 17, which is equal to {}.\".format(x,(x // 17)))\n",
    "        break"
   ]
  },
  {
   "cell_type": "code",
   "execution_count": 8,
   "id": "24f37318",
   "metadata": {},
   "outputs": [
    {
     "name": "stdout",
     "output_type": "stream",
     "text": [
      "Enter a number to see if it's a perfect square: 81\n",
      "81 is a perfect square with a square root of  9\n"
     ]
    }
   ],
   "source": [
    "'''\n",
    "eval\n",
    "This is an inbuilt Pyhton function that takes\n",
    "a string argument, evaluates its value and \n",
    "returns back that value\n",
    "'''\n",
    "number = input(\"Enter a number to see if it's a perfect square: \")\n",
    "number = eval(number)\n",
    "i = -1\n",
    "square = False\n",
    "while (number > 0 and number % 1 == 0 and i <= (number**0.5)):\n",
    "    if (i * i == number):\n",
    "        square = True\n",
    "        break\n",
    "    i+=1\n",
    "if square:\n",
    "    print(number,\"is a perfect square with a square root of \",i)\n",
    "else:\n",
    "    print(number,\"is a not a perfect square.\")\n",
    "\n"
   ]
  },
  {
   "cell_type": "code",
   "execution_count": 10,
   "id": "79eeb8fa",
   "metadata": {},
   "outputs": [
    {
     "name": "stdout",
     "output_type": "stream",
     "text": [
      "A three bedroom bungalow in Rongai is listed at KSH3 million.\n",
      "Enter your first offer for the house.\n",
      "2500000\n",
      "Enter your best offer on the house\n",
      "3500000\n",
      "How much more do you want to offer each time?\n",
      "200000\n",
      "Offer for 2500000 has been rejected. Please try again\n",
      "Offer for 2700000 has been rejected. Please try again\n",
      "Offer for 2900000 has been rejected. Please try again\n",
      "Offer for 3100000 has been rejected. Please try again\n",
      "Offer for 3300000 has been rejected. Please try again\n",
      "Your offer of 3500000 has been accepted!\n"
     ]
    }
   ],
   "source": [
    "'''\n",
    "Exercise 19: Real Estate Offer\n",
    "'''\n",
    "print(\"A three bedroom bungalow in Rongai is listed at KSH3 million.\")\n",
    "print(\"Enter your first offer for the house.\")\n",
    "offer = abs(int(input()))\n",
    "print(\"Enter your best offer on the house\")\n",
    "best = abs(int(input()))\n",
    "print(\"How much more do you want to offer each time?\")\n",
    "increment = abs(int(input()))\n",
    "offerAccepted = False\n",
    "while offer <= best:\n",
    "    # Minimum offer is set at KSH 3.5 million\n",
    "    if offer >= 3500000:\n",
    "        offerAccepted = True\n",
    "        print(\"Your offer of\", offer,\"has been accepted!\")\n",
    "        break\n",
    "    print(\"Offer for\", offer,\"has been rejected. Please try again\")\n",
    "    offer += increment\n",
    "    "
   ]
  },
  {
   "cell_type": "code",
   "execution_count": 3,
   "id": "e6985c45",
   "metadata": {},
   "outputs": [
    {
     "name": "stdout",
     "output_type": "stream",
     "text": [
      "Prime numbers between 10 and 31 (31 not included)\n",
      "11\n",
      "13\n",
      "17\n",
      "19\n",
      "23\n",
      "29\n"
     ]
    }
   ],
   "source": [
    "'''\n",
    "The for Loop\n",
    "Syntax:\n",
    "    for variable in range:\n",
    "        # Code to execute\n",
    "continue:\n",
    "    it stops the code and goes back to the\n",
    "    beginning of the loop.\n",
    "'''\n",
    "# Print out prime numbers between the range of 10 to 30, 30 not included\n",
    "print(\"Prime numbers between 10 and 31 (31 not included)\")\n",
    "for num in range(10,30):\n",
    "    if num % 2 == 0:\n",
    "        continue\n",
    "    if num % 3 == 0:\n",
    "        continue\n",
    "    if num % 5 == 0:\n",
    "        continue\n",
    "    if num % 7 == 0:\n",
    "        continue\n",
    "    print(num)\n"
   ]
  },
  {
   "cell_type": "code",
   "execution_count": 13,
   "id": "d81586f6",
   "metadata": {},
   "outputs": [
    {
     "name": "stdout",
     "output_type": "stream",
     "text": [
      "Print out characters in my name: hello\n",
      "h\n",
      "e\n",
      "l\n",
      "l\n",
      "o\n",
      "Using range with one bound only\n",
      "0\n",
      "1\n",
      "2\n",
      "3\n",
      "4\n",
      "Using an increment value(2)\n",
      "0\n",
      "2\n",
      "4\n",
      "6\n",
      "Use a step increment to count down\n",
      "3\n",
      "2\n",
      "1\n",
      "Nested for loop\n",
      "Iteration 1\n",
      "h\n",
      "i\n",
      "Iteration 2\n",
      "h\n",
      "i\n",
      "Iteration 3\n",
      "h\n",
      "i\n"
     ]
    }
   ],
   "source": [
    "'''\n",
    "for loop.\n",
    "range(start, end, increment)\n",
    "end value is not included.\n",
    "if start value is not included, defaulf start value is 0\n",
    "increment can be -ve. Here the start value is the \n",
    "upper limit and the end value the lower limit\n",
    "'''\n",
    "name = input(\"Print out characters in my name: \")\n",
    "for i in name:\n",
    "    print(i)\n",
    "print(\"Using range with one bound only\")\n",
    "for i in range(5):\n",
    "    print(i)\n",
    "print(\"Using an increment value(2)\")\n",
    "for i in range(0, 8, 2):\n",
    "    print(i)\n",
    "print(\"Use a step increment to count down\")\n",
    "for i in range(3, 0, -1):\n",
    "    print(i)\n",
    "print(\"Nested for loop\")\n",
    "for i in range(3):\n",
    "    print(\"Iteration\", i + 1)\n",
    "    for j in 'hi':\n",
    "        print(j)"
   ]
  },
  {
   "cell_type": "code",
   "execution_count": null,
   "id": "082a2221",
   "metadata": {},
   "outputs": [],
   "source": []
  }
 ],
 "metadata": {
  "kernelspec": {
   "display_name": "Python 3",
   "language": "python",
   "name": "python3"
  },
  "language_info": {
   "codemirror_mode": {
    "name": "ipython",
    "version": 3
   },
   "file_extension": ".py",
   "mimetype": "text/x-python",
   "name": "python",
   "nbconvert_exporter": "python",
   "pygments_lexer": "ipython3",
   "version": "3.8.8"
  }
 },
 "nbformat": 4,
 "nbformat_minor": 5
}
